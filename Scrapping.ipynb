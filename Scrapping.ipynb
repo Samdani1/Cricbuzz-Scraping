{
 "cells": [
  {
   "cell_type": "code",
   "execution_count": 1,
   "id": "97fe31a5",
   "metadata": {},
   "outputs": [],
   "source": [
    "import sys\n",
    "import time\n",
    "from bs4 import BeautifulSoup\n",
    "import requests"
   ]
  },
  {
   "cell_type": "code",
   "execution_count": 26,
   "id": "8aa0bec9",
   "metadata": {},
   "outputs": [],
   "source": [
    "weblink = 'https://www.cricbuzz.com/'\n",
    "page=requests.get(link)\n",
    "time.sleep(2)\n",
    "soup = BeautifulSoup(page.text, 'html.parser')\n",
    "links = soup.find_all('h2', attrs={\"class\":\"big-crd-hdln\"})"
   ]
  },
  {
   "cell_type": "code",
   "execution_count": 82,
   "id": "a8d2f0ef",
   "metadata": {},
   "outputs": [
    {
     "name": "stdout",
     "output_type": "stream",
     "text": [
      " Kaushik Rangarajan : https://www.cricbuzz.com/cricket-news/117888/enforcer-shami-reminds-us-of-his-worth\n",
      " Cricbuzz Staff : https://www.cricbuzz.com/cricket-news/117885/new-look-sri-lanka-set-for-baptism-of-fire\n",
      " Telford Vice : https://www.cricbuzz.com/cricket-news/117870/keshav-maharaj-a-rebel-with-a-cause\n",
      " Abhinav Mukund : https://www.cricbuzz.com/cricket-news/117592/can-we-make-the-future-worth-the-fight\n"
     ]
    }
   ],
   "source": [
    "data = {}\n",
    "for link in links:\n",
    "    pagea = requests.get(weblink[0:-1]+link.a['href'])\n",
    "    pagesoup = BeautifulSoup(pagea.text, 'html.parser')\n",
    "    authers = pagesoup.find_all('div', attrs={\"class\":\"cb-spt-athr\"})\n",
    "    if len(authers) > 0:\n",
    "        data[authers[0].text] = weblink[0:-1]+link.a['href']\n",
    "    else:\n",
    "        authers = pagesoup.find_all('span', attrs={\"itemprop\":\"name\"})\n",
    "        if len(authers) > 0:\n",
    "            data[authers[0].text] = weblink[0:-1]+link.a['href']\n",
    "for name, link in data.items():\n",
    "    print(f'{name}: {link}')"
   ]
  },
  {
   "cell_type": "code",
   "execution_count": 93,
   "id": "36f5c938",
   "metadata": {},
   "outputs": [
    {
     "name": "stdout",
     "output_type": "stream",
     "text": [
      "Match ISU vs PSZ \n",
      "Peshawar Zalmi won by 8 wkts\n",
      "ISU 174/9 (20)\n",
      "PSZ 177/2 (16.5)\n",
      " \n",
      " \n",
      "Match NOTTS vs WORCS \n",
      "Nottinghamshire won by 10 wkts\n",
      "WORCS 86/8 (20)\n",
      "NOTTS 89/0 (6.2)\n",
      " \n",
      " \n",
      "Match GLOUCS vs KENT \n",
      "Gloucestershire won by 8 wkts\n",
      "KENT 147/7 (20)\n",
      "GLOUCS 149/2 (13.4)\n",
      " \n",
      " \n"
     ]
    }
   ],
   "source": [
    "teamcdata = {}\n",
    "menus = soup.find_all('a', attrs={\"class\": \"cb-mat-mnu-itm\"})\n",
    "for menu in menus:\n",
    "    if menu.text.split(' ')[-1] == \"Won\":\n",
    "#         print(weblink[0:-1]+menu['href'])\n",
    "#         print(menu.text.split(' ')[-1])\n",
    "#         print(menu.text.split('-')[0])\n",
    "        \n",
    "        scores = requests.get(weblink[0:-1]+menu['href'])\n",
    "        scoresoup = BeautifulSoup(scores.text, 'html.parser')\n",
    "        windiv = scoresoup.find_all('div', attrs={'class':'cb-text-complete'})\n",
    "        teamscore = scoresoup.find_all('div', attrs={\"class\", \"cb-scrs-wrp\"})\n",
    "        \n",
    "#         print(windiv[0].text)\n",
    "        teams = teamscore[0].find_all('div', attrs={'class':'cb-min-tm'})\n",
    "#         print(teams)\n",
    "        teamcdata[menu.text.split('-')[0]] = {windiv[0].text: [scr.text for scr in teams] }\n",
    "    \n",
    "for match, data in teamcdata.items():\n",
    "    print(f'Match {match}')\n",
    "    for status, scores in data.items():\n",
    "        print(status)\n",
    "        for score in scores:\n",
    "            print(score)\n",
    "    print(' ')\n",
    "    print(' ')\n",
    "    "
   ]
  },
  {
   "cell_type": "code",
   "execution_count": 89,
   "id": "301819a4",
   "metadata": {},
   "outputs": [
    {
     "data": {
      "text/plain": [
       "{1: [0, 1]}"
      ]
     },
     "execution_count": 89,
     "metadata": {},
     "output_type": "execute_result"
    }
   ],
   "source": [
    "{1: [i for i in range(0,2)]}"
   ]
  },
  {
   "cell_type": "code",
   "execution_count": 94,
   "id": "29e5a710",
   "metadata": {},
   "outputs": [
    {
     "ename": "SyntaxError",
     "evalue": "invalid syntax (<ipython-input-94-f188d5ac1197>, line 1)",
     "output_type": "error",
     "traceback": [
      "\u001b[1;36m  File \u001b[1;32m\"<ipython-input-94-f188d5ac1197>\"\u001b[1;36m, line \u001b[1;32m1\u001b[0m\n\u001b[1;33m    git init\u001b[0m\n\u001b[1;37m        ^\u001b[0m\n\u001b[1;31mSyntaxError\u001b[0m\u001b[1;31m:\u001b[0m invalid syntax\n"
     ]
    }
   ],
   "source": []
  },
  {
   "cell_type": "code",
   "execution_count": null,
   "id": "86973154",
   "metadata": {},
   "outputs": [],
   "source": []
  }
 ],
 "metadata": {
  "kernelspec": {
   "display_name": "Python 3",
   "language": "python",
   "name": "python3"
  },
  "language_info": {
   "codemirror_mode": {
    "name": "ipython",
    "version": 3
   },
   "file_extension": ".py",
   "mimetype": "text/x-python",
   "name": "python",
   "nbconvert_exporter": "python",
   "pygments_lexer": "ipython3",
   "version": "3.8.8"
  }
 },
 "nbformat": 4,
 "nbformat_minor": 5
}
